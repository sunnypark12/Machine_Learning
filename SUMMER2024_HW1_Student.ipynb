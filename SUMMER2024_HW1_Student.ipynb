{
 "cells": [
  {
   "cell_type": "markdown",
   "metadata": {
    "id": "xs9yYSRW_Mvs"
   },
   "source": [
    "## Summer 2024 CS4641/CS7641 A Homework 1 - Programming Section\n",
    "\n",
    "## Instructor: Dr. Mahdi Roozbahani\n",
    "\n",
    "## Deadline: Friday, June 7th, 11:59 pm EST\n",
    "\n",
    "<!-- No changes needed on the below section -->\n",
    "* No unapproved extension of the deadline is allowed. Submissions past our 48-hour penalized acceptance period will lead to 0 credit. \n",
    "\n",
    "* Discussion is encouraged on Ed as part of the Q/A. However, all assignments should be done individually.\n",
    "<font color='darkred'>\n",
    "* Plagiarism is a **serious offense**. You are responsible for completing your own work. You are not allowed to copy and paste, or paraphrase, or submit materials created or published by others, as if you created the materials. All materials submitted must be your own.</font>\n",
    "<font color='darkred'>\n",
    "* All incidents of suspected dishonesty, plagiarism, or violations of the Georgia Tech Honor Code will be subject to the institute’s Academic Integrity procedures. If we observe any (even small) similarities/plagiarisms detected by Gradescope or our TAs, **WE WILL DIRECTLY REPORT ALL CASES TO OSI**, which may, unfortunately, lead to a very harsh outcome. **Consequences can be severe, e.g., academic probation or dismissal, grade penalties, a 0 grade for assignments concerned, and prohibition from withdrawing from the class.**\n",
    "</font>\n"
   ]
  },
  {
   "cell_type": "markdown",
   "metadata": {
    "id": "uI6nZBMF_Mvw",
    "tags": []
   },
   "source": [
    "## Instructions for the assignment \n",
    "\n",
    "<!-- No changes needed on the below section -->\n",
    "- This assignment consists of warm-up programming questions designed to get you familiar with our programming homework structure."
   ]
  },
  {
   "cell_type": "markdown",
   "metadata": {
    "id": "g7stIuyo_Mvx"
   },
   "source": [
    "## Using the autograder\n",
    "\n",
    "- Grads will typically find three assignments on Gradescope and Undergrads will typically find four assignments:\n",
    "    - \"Assignment X Non-programming\": Where you will submit the written portion of the assignment.\n",
    "    - \"Assignment X Programming\": Where you will submit any .py files and any program outputs as required by the problem.\n",
    "    - \"Assignment X Programming - Bonus for All\": Where you will submit any .py files and any program outputs as required for Bonus for All.\n",
    "    - \"Assignment X Programming - Bonus for Undergrad\": Where you will submit any .py files and any program outputs as required for Bonus for Undergrand. (Undergrad Only)\n",
    "\n",
    "<!-- No changes needed on the below section -->\n",
    "- You will submit your code for the autograder in the Assignment 1 Programming section. \n",
    "\n",
    "- We provided you .py files and we added libraries in those files please DO NOT remove those lines and add your code after those lines. Note that these are the only allowed libraries that you can use for the homework.\n",
    "\n",
    "- You are allowed to make as many submissions until the deadline as you like. Additionally, note that the autograder tests each function separately, therefore it can serve as a useful tool to help you debug your code if you are not sure of what part of your implementation might have an issue.\n",
    "<!-- No changes needed on the above section -->"
   ]
  },
  {
   "cell_type": "markdown",
   "metadata": {
    "id": "_Nz2030u_Mvy",
    "tags": []
   },
   "source": [
    "## Deliverables and Points Distribution \n",
    "\n",
    "### Q7: Programming Warm-Up [5pts total]\n",
    "#### Deliverables: \n",
    "- `warmup.py`\n",
    "- `env.pkl`\n",
    "\n",
    "#### Parts: \n",
    "- **Setup** [2pts] - *programming*\n",
    "\n",
    "- **Numpy** [3pts] - _programming_\n",
    "    - Numpy Basics [2pts]\n",
    "    - Broadcasting [1pts] "
   ]
  },
  {
   "cell_type": "markdown",
   "metadata": {
    "id": "cKKsCsvo_Mvz"
   },
   "source": [
    "## 7.1 Setup [1pt]\n",
    "\n",
    "- **Deliverable:** `env.pkl`\n",
    "\n",
    "This notebook is tested under [python 3.11](https://www.python.org/downloads/release/python-3110/), and the corresponding packages can be downloaded from [miniconda](https://docs.conda.io/en/latest/miniconda.html). You may also want to get yourself familiar with several packages:\n",
    "\n",
    "- [jupyter lab](https://jupyterlab.readthedocs.io/en/stable/): provides a web-based IDE with a built-in debugging functionality for jupyter notebooks.\n",
    "- [numpy](https://numpy.org/doc/1.23/): a high performance math library backed by C\n",
    "- [matplotlib](https://matplotlib.org/users/pyplot_tutorial.html): a python plotting libaray\n",
    "\n",
    "Other packages you may find indispensable in machine learning (and potentially your project) are:\n",
    "  \n",
    "- [scikit-learn](https://scikit-learn.org/stable/getting_started.html): provides many classical ML and data analysis algorithms\n",
    "- [pandas](https://pandas.pydata.org/docs/): provides many useful tools for organizing and manipulating data\n",
    "- [seaborn](https://seaborn.pydata.org/tutorial/introduction.html): make beatiful plots with less fidgeting in matplotlib\n",
    "- [plotly](https://plotly.com/python/): another great data visualization package\n",
    "\n",
    "Please implement the functions that have \"raise NotImplementedError\", and after you finish the coding, please delete or comment \"raise NotImplementedError\"."
   ]
  },
  {
   "cell_type": "code",
   "execution_count": 21,
   "metadata": {},
   "outputs": [
    {
     "name": "stdout",
     "output_type": "stream",
     "text": [
      "Version information\n",
      "python: 3.11.7 (main, Dec 15 2023, 12:09:56) [Clang 14.0.6 ]\n",
      "numpy: 1.26.4\n",
      "The autoreload extension is already loaded. To reload it, use:\n",
      "  %reload_ext autoreload\n"
     ]
    }
   ],
   "source": [
    "###############################\n",
    "### DO NOT CHANGE THIS CELL ###\n",
    "###############################\n",
    "\n",
    "import sys\n",
    "\n",
    "sys.path.append(\"./utilities/\")\n",
    "sys.path.append(\"warmup.py\")\n",
    "\n",
    "import numpy as np\n",
    "\n",
    "print(\"Version information\")\n",
    "\n",
    "print(\"python: {}\".format(sys.version))\n",
    "print(\"numpy: {}\".format(np.__version__))\n",
    "\n",
    "\n",
    "%load_ext autoreload\n",
    "%autoreload 2"
   ]
  },
  {
   "cell_type": "markdown",
   "metadata": {
    "id": "Ysr89SO3_Mv0"
   },
   "source": [
    "### 7.1.1 Basics, Imports, and Directories\n",
    "For the following part, you will need to ensure your notebook runtime is started in the correct directory. You can verify this with the following cell."
   ]
  },
  {
   "cell_type": "code",
   "execution_count": 22,
   "metadata": {},
   "outputs": [
    {
     "data": {
      "text/plain": [
       "'/Users/sunho/Desktop/summer_2024/CS4641/HW1'"
      ]
     },
     "execution_count": 22,
     "metadata": {},
     "output_type": "execute_result"
    }
   ],
   "source": [
    "###############################\n",
    "### DO NOT CHANGE THIS CELL ###\n",
    "###############################\n",
    "\n",
    "# RUN ME #\n",
    "import os\n",
    "\n",
    "os.getcwd()"
   ]
  },
  {
   "cell_type": "markdown",
   "metadata": {},
   "source": [
    "In the cell below, import the `PackageUtils` class from `utils.py`."
   ]
  },
  {
   "cell_type": "code",
   "execution_count": 32,
   "metadata": {},
   "outputs": [
    {
     "name": "stdout",
     "output_type": "stream",
     "text": [
      "Collecting tweet-preprocessor\n",
      "  Downloading tweet_preprocessor-0.6.0-py3-none-any.whl.metadata (5.9 kB)\n",
      "Downloading tweet_preprocessor-0.6.0-py3-none-any.whl (27 kB)\n",
      "Installing collected packages: tweet-preprocessor\n",
      "Successfully installed tweet-preprocessor-0.6.0\n"
     ]
    }
   ],
   "source": [
    "# YOUR CODE HERE #\n",
    "from utils import PackageUtils\n",
    "!pip install tweet-preprocessor"
   ]
  },
  {
   "cell_type": "markdown",
   "metadata": {},
   "source": [
    "In the cell below, call the `get_packages` method of the PackageUtils class to see what packages are installed in this notebook's runtime environment."
   ]
  },
  {
   "cell_type": "code",
   "execution_count": 33,
   "metadata": {
    "tags": []
   },
   "outputs": [
    {
     "name": "stdout",
     "output_type": "stream",
     "text": [
      "aiobotocore @ file:///private/var/folders/nz/j6p8yfhx1mv_0grj5xl4650h0000gp/T/abs_bba52b0nnu/croot/aiobotocore_1701291516116/work\n",
      "aiohttp @ file:///private/var/folders/nz/j6p8yfhx1mv_0grj5xl4650h0000gp/T/abs_b1m9c8aqie/croot/aiohttp_1707342290832/work\n",
      "aioitertools @ file:///tmp/build/80754af9/aioitertools_1607109665762/work\n",
      "aiosignal @ file:///tmp/build/80754af9/aiosignal_1637843061372/work\n",
      "alabaster @ file:///home/ktietz/src/ci/alabaster_1611921544520/work\n",
      "altair @ file:///private/var/folders/nz/j6p8yfhx1mv_0grj5xl4650h0000gp/T/abs_a8x4081_4h/croot/altair_1687526044471/work\n",
      "anaconda-anon-usage @ file:///private/var/folders/nz/j6p8yfhx1mv_0grj5xl4650h0000gp/T/abs_ca68ugx5h9/croot/anaconda-anon-usage_1697038938120/work\n",
      "anaconda-catalogs @ file:///private/var/folders/nz/j6p8yfhx1mv_0grj5xl4650h0000gp/T/abs_e8tmw882qa/croot/anaconda-catalogs_1685727305051/work\n",
      "anaconda-client @ file:///private/var/folders/k1/30mswbxs7r1g6zwn8y4fyt500000gp/T/abs_4fl23009pr/croot/anaconda-client_1708640644054/work\n",
      "anaconda-cloud-auth @ file:///private/var/folders/nz/j6p8yfhx1mv_0grj5xl4650h0000gp/T/abs_f31ldbbwyn/croot/anaconda-cloud-auth_1697462723029/work\n",
      "anaconda-navigator @ file:///private/var/folders/nz/j6p8yfhx1mv_0grj5xl4650h0000gp/T/abs_f8upxzc9nj/croot/anaconda-navigator_1704813291659/work\n",
      "anaconda-project @ file:///Users/cbousseau/work/recipes/ci_py311/anaconda-project_1677964558977/work\n",
      "anyio @ file:///private/var/folders/k1/30mswbxs7r1g6zwn8y4fyt500000gp/T/abs_a17a7759g2/croot/anyio_1706220182417/work\n",
      "appdirs==1.4.4\n",
      "applaunchservices @ file:///Users/cbousseau/work/recipes/ci_py311/applaunchservices_1677955996025/work\n",
      "appnope @ file:///Users/cbousseau/work/recipes/ci_py311/appnope_1677917710869/work\n",
      "appscript @ file:///Users/cbousseau/work/recipes/ci_py311/appscript_1677956964648/work\n",
      "archspec @ file:///croot/archspec_1697725767277/work\n",
      "argon2-cffi @ file:///opt/conda/conda-bld/argon2-cffi_1645000214183/work\n",
      "argon2-cffi-bindings @ file:///Users/cbousseau/work/recipes/ci_py311/argon2-cffi-bindings_1677915727169/work\n",
      "arrow @ file:///Users/cbousseau/work/recipes/ci_py311/arrow_1677931434012/work\n",
      "astroid @ file:///Users/cbousseau/work/recipes/ci_py311/astroid_1677926110661/work\n",
      "astropy @ file:///private/var/folders/k1/30mswbxs7r1g6zwn8y4fyt500000gp/T/abs_6bsitngidh/croot/astropy_1697468943967/work\n",
      "asttokens @ file:///opt/conda/conda-bld/asttokens_1646925590279/work\n",
      "async-lru @ file:///private/var/folders/k1/30mswbxs7r1g6zwn8y4fyt500000gp/T/abs_02efro5ps8/croot/async-lru_1699554529181/work\n",
      "atomicwrites==1.4.0\n",
      "attrs @ file:///private/var/folders/k1/30mswbxs7r1g6zwn8y4fyt500000gp/T/abs_224434dqzl/croot/attrs_1695717839274/work\n",
      "Automat @ file:///tmp/build/80754af9/automat_1600298431173/work\n",
      "autopep8 @ file:///opt/conda/conda-bld/autopep8_1650463822033/work\n",
      "Babel @ file:///Users/cbousseau/work/recipes/ci_py311/babel_1677920677615/work\n",
      "backports.functools-lru-cache @ file:///tmp/build/80754af9/backports.functools_lru_cache_1618170165463/work\n",
      "backports.tempfile @ file:///home/linux1/recipes/ci/backports.tempfile_1610991236607/work\n",
      "backports.weakref==1.0.post1\n",
      "bcrypt @ file:///Users/cbousseau/work/recipes/ci_py311/bcrypt_1677931459811/work\n",
      "beautifulsoup4 @ file:///private/var/folders/nz/j6p8yfhx1mv_0grj5xl4650h0000gp/T/abs_fa78jvo_0n/croot/beautifulsoup4-split_1681493044306/work\n",
      "binaryornot @ file:///tmp/build/80754af9/binaryornot_1617751525010/work\n",
      "black @ file:///private/var/folders/nz/j6p8yfhx1mv_0grj5xl4650h0000gp/T/abs_964h37vv55/croot/black_1701096835115/work\n",
      "bleach @ file:///opt/conda/conda-bld/bleach_1641577558959/work\n",
      "blinker @ file:///private/var/folders/k1/30mswbxs7r1g6zwn8y4fyt500000gp/T/abs_d64vvpf_j3/croot/blinker_1696539070114/work\n",
      "bokeh @ file:///private/var/folders/k1/30mswbxs7r1g6zwn8y4fyt500000gp/T/abs_99j5zeviwp/croot/bokeh_1706912152177/work\n",
      "boltons @ file:///Users/cbousseau/work/recipes/ci_py311/boltons_1677965141748/work\n",
      "botocore @ file:///private/var/folders/nz/j6p8yfhx1mv_0grj5xl4650h0000gp/T/abs_2awq8m3jp2/croot/botocore_1701286476464/work\n",
      "Bottleneck @ file:///private/var/folders/nz/j6p8yfhx1mv_0grj5xl4650h0000gp/T/abs_2bxpizxa3c/croot/bottleneck_1707864819812/work\n",
      "Brotli @ file:///Users/cbousseau/work/recipes/ci_py311/brotli-split_1677936346777/work\n",
      "cachetools @ file:///tmp/build/80754af9/cachetools_1619597386817/work\n",
      "certifi @ file:///private/var/folders/k1/30mswbxs7r1g6zwn8y4fyt500000gp/T/abs_3bzbkiv4h_/croot/certifi_1707229182618/work/certifi\n",
      "cffi @ file:///private/var/folders/k1/30mswbxs7r1g6zwn8y4fyt500000gp/T/abs_b4nang6w_y/croot/cffi_1700254307954/work\n",
      "chardet @ file:///Users/cbousseau/work/recipes/ci_py311/chardet_1677931647221/work\n",
      "charset-normalizer @ file:///tmp/build/80754af9/charset-normalizer_1630003229654/work\n",
      "click @ file:///private/var/folders/nz/j6p8yfhx1mv_0grj5xl4650h0000gp/T/abs_61srkg7e2e/croot/click_1698129815327/work\n",
      "cloudpickle @ file:///private/var/folders/nz/j6p8yfhx1mv_0grj5xl4650h0000gp/T/abs_da31odypvn/croot/cloudpickle_1683040013858/work\n",
      "clyent==1.2.2\n",
      "colorama @ file:///Users/cbousseau/work/recipes/ci_py311/colorama_1677925183444/work\n",
      "colorcet @ file:///Users/cbousseau/work/recipes/ci_py311/colorcet_1677936559489/work\n",
      "comm @ file:///Users/cbousseau/work/recipes/ci_py311/comm_1677919149446/work\n",
      "conda @ file:///private/var/folders/nz/j6p8yfhx1mv_0grj5xl4650h0000gp/T/abs_104cbbdti1/croot/conda_1708369123783/work\n",
      "conda-build @ file:///private/var/folders/nz/j6p8yfhx1mv_0grj5xl4650h0000gp/T/abs_00pjr5gry0/croot/conda-build_1708025869269/work\n",
      "conda-content-trust @ file:///private/var/folders/k1/30mswbxs7r1g6zwn8y4fyt500000gp/T/abs_5324skqvu9/croot/conda-content-trust_1693490622873/work\n",
      "conda-libmamba-solver @ file:///croot/conda-libmamba-solver_1706733287605/work/src\n",
      "conda-pack @ file:///tmp/build/80754af9/conda-pack_1611163042455/work\n",
      "conda-package-handling @ file:///private/var/folders/k1/30mswbxs7r1g6zwn8y4fyt500000gp/T/abs_fc4cx8vjhj/croot/conda-package-handling_1690999937094/work\n",
      "conda-repo-cli==1.0.75\n",
      "conda-token @ file:///Users/paulyim/miniconda3/envs/c3i/conda-bld/conda-token_1662660369760/work\n",
      "conda-verify==3.4.2\n",
      "conda_index @ file:///croot/conda-index_1706633791028/work\n",
      "conda_package_streaming @ file:///private/var/folders/k1/30mswbxs7r1g6zwn8y4fyt500000gp/T/abs_aecpaup22q/croot/conda-package-streaming_1690987978274/work\n",
      "constantly @ file:///private/var/folders/k1/30mswbxs7r1g6zwn8y4fyt500000gp/T/abs_efw7euxpjs/croot/constantly_1703165606144/work\n",
      "contourpy @ file:///private/var/folders/k1/30mswbxs7r1g6zwn8y4fyt500000gp/T/abs_041uwyxdzo/croot/contourpy_1700583585236/work\n",
      "cookiecutter @ file:///private/var/folders/k1/30mswbxs7r1g6zwn8y4fyt500000gp/T/abs_31so_ckiry/croot/cookiecutter_1700676950524/work\n",
      "cryptography @ file:///private/var/folders/nz/j6p8yfhx1mv_0grj5xl4650h0000gp/T/abs_18vlnzdapr/croot/cryptography_1707523715977/work\n",
      "cssselect @ file:///private/var/folders/k1/30mswbxs7r1g6zwn8y4fyt500000gp/T/abs_47oh46v5h0/croot/cssselect_1707339886455/work\n",
      "cycler @ file:///tmp/build/80754af9/cycler_1637851556182/work\n",
      "cytoolz @ file:///private/var/folders/nz/j6p8yfhx1mv_0grj5xl4650h0000gp/T/abs_f0etqooaak/croot/cytoolz_1701723613874/work\n",
      "dask @ file:///private/var/folders/k1/30mswbxs7r1g6zwn8y4fyt500000gp/T/abs_daioj09k9x/croot/dask-core_1701396100505/work\n",
      "datashader @ file:///private/var/folders/k1/30mswbxs7r1g6zwn8y4fyt500000gp/T/abs_0e70ltjmce/croot/datashader_1699548944582/work\n",
      "debugpy @ file:///private/var/folders/k1/30mswbxs7r1g6zwn8y4fyt500000gp/T/abs_563_nwtkoc/croot/debugpy_1690905063850/work\n",
      "decorator @ file:///opt/conda/conda-bld/decorator_1643638310831/work\n",
      "defusedxml @ file:///tmp/build/80754af9/defusedxml_1615228127516/work\n",
      "diff-match-patch @ file:///Users/ktietz/demo/mc3/conda-bld/diff-match-patch_1630511840874/work\n",
      "dill @ file:///private/var/folders/nz/j6p8yfhx1mv_0grj5xl4650h0000gp/T/abs_03bak43n9t/croot/dill_1692271244297/work\n",
      "distributed @ file:///private/var/folders/nz/j6p8yfhx1mv_0grj5xl4650h0000gp/T/abs_8c3iaagm9k/croot/distributed_1701398038542/work\n",
      "distro @ file:///private/var/folders/nz/j6p8yfhx1mv_0grj5xl4650h0000gp/T/abs_10ye1wu827/croot/distro_1701455019085/work\n",
      "docstring-to-markdown @ file:///Users/cbousseau/work/recipes/ci_py311/docstring-to-markdown_1677931891483/work\n",
      "docutils @ file:///Users/cbousseau/work/recipes/ci_py311/docutils_1677907269557/work\n",
      "entrypoints @ file:///Users/cbousseau/work/recipes/ci_py311/entrypoints_1677911798787/work\n",
      "et-xmlfile==1.1.0\n",
      "executing @ file:///opt/conda/conda-bld/executing_1646925071911/work\n",
      "fastjsonschema @ file:///Users/cbousseau/work/recipes/ci_py311_2/python-fastjsonschema_1678996913062/work\n",
      "filelock @ file:///private/var/folders/nz/j6p8yfhx1mv_0grj5xl4650h0000gp/T/abs_d3quwmvouf/croot/filelock_1700591194006/work\n",
      "flake8 @ file:///Users/cbousseau/work/recipes/ci_py311/flake8_1677931981927/work\n",
      "Flask @ file:///private/var/folders/k1/30mswbxs7r1g6zwn8y4fyt500000gp/T/abs_b4a2svwk0s/croot/flask_1702980026964/work\n",
      "fonttools==4.25.0\n",
      "frozenlist @ file:///private/var/folders/nz/j6p8yfhx1mv_0grj5xl4650h0000gp/T/abs_68w5bkvw82/croot/frozenlist_1698702578544/work\n",
      "fsspec @ file:///private/var/folders/nz/j6p8yfhx1mv_0grj5xl4650h0000gp/T/abs_c7sublivu7/croot/fsspec_1701286493452/work\n",
      "future @ file:///Users/cbousseau/work/recipes/ci_py311_2/future_1678994664110/work\n",
      "gensim @ file:///Users/cbousseau/work/recipes/ci_py311/gensim_1677971806459/work\n",
      "gitdb @ file:///tmp/build/80754af9/gitdb_1617117951232/work\n",
      "GitPython @ file:///private/var/folders/k1/30mswbxs7r1g6zwn8y4fyt500000gp/T/abs_4a22a3qbjg/croot/gitpython_1696936997893/work\n",
      "gmpy2 @ file:///Users/cbousseau/work/recipes/ci_py311/gmpy2_1677937751357/work\n",
      "greenlet @ file:///private/var/folders/k1/30mswbxs7r1g6zwn8y4fyt500000gp/T/abs_516imz09pb/croot/greenlet_1702059966336/work\n",
      "h5py @ file:///private/var/folders/k1/30mswbxs7r1g6zwn8y4fyt500000gp/T/abs_9a3s_y3izc/croot/h5py_1691589712568/work\n",
      "HeapDict @ file:///Users/ktietz/demo/mc3/conda-bld/heapdict_1630598515714/work\n",
      "holoviews @ file:///private/var/folders/k1/30mswbxs7r1g6zwn8y4fyt500000gp/T/abs_e2ffhlmgnd/croot/holoviews_1707836458582/work\n",
      "hvplot @ file:///private/var/folders/k1/30mswbxs7r1g6zwn8y4fyt500000gp/T/abs_a5ty3nz7ng/croot/hvplot_1706712400461/work\n",
      "hyperlink @ file:///tmp/build/80754af9/hyperlink_1610130746837/work\n",
      "idna @ file:///Users/cbousseau/work/recipes/ci_py311/idna_1677906072337/work\n",
      "imagecodecs @ file:///private/var/folders/k1/30mswbxs7r1g6zwn8y4fyt500000gp/T/abs_40kuk1jbgt/croot/imagecodecs_1695064959855/work\n",
      "imageio @ file:///private/var/folders/nz/j6p8yfhx1mv_0grj5xl4650h0000gp/T/abs_3d_rw6fwwk/croot/imageio_1707247298334/work\n",
      "imagesize @ file:///Users/cbousseau/work/recipes/ci_py311/imagesize_1677932611633/work\n",
      "imbalanced-learn @ file:///private/var/folders/k1/30mswbxs7r1g6zwn8y4fyt500000gp/T/abs_84wkslwbn4/croot/imbalanced-learn_1700668239347/work\n",
      "importlib-metadata @ file:///private/var/folders/k1/30mswbxs7r1g6zwn8y4fyt500000gp/T/abs_5498c88e7n/croot/importlib_metadata-suite_1704813534254/work\n",
      "incremental @ file:///croot/incremental_1708639938299/work\n",
      "inflection==0.5.1\n",
      "iniconfig @ file:///home/linux1/recipes/ci/iniconfig_1610983019677/work\n",
      "intake @ file:///Users/cbousseau/work/recipes/ci_py311_2/intake_1678994948878/work\n",
      "intervaltree @ file:///Users/ktietz/demo/mc3/conda-bld/intervaltree_1630511889664/work\n",
      "ipykernel @ file:///private/var/folders/nz/j6p8yfhx1mv_0grj5xl4650h0000gp/T/abs_f428_5tjvx/croot/ipykernel_1705933835534/work\n",
      "ipython @ file:///private/var/folders/k1/30mswbxs7r1g6zwn8y4fyt500000gp/T/abs_a1tmxj9b4u/croot/ipython_1704833016119/work\n",
      "ipython-genutils @ file:///tmp/build/80754af9/ipython_genutils_1606773439826/work\n",
      "ipywidgets @ file:///croot/ipywidgets_1701289330913/work\n",
      "isort @ file:///tmp/build/80754af9/isort_1628603791788/work\n",
      "itemadapter @ file:///tmp/build/80754af9/itemadapter_1626442940632/work\n",
      "itemloaders @ file:///private/var/folders/nz/j6p8yfhx1mv_0grj5xl4650h0000gp/T/abs_9810zcegev/croot/itemloaders_1708639928835/work\n",
      "itsdangerous @ file:///tmp/build/80754af9/itsdangerous_1621432558163/work\n",
      "jaraco.classes @ file:///tmp/build/80754af9/jaraco.classes_1620983179379/work\n",
      "jedi @ file:///Users/cbousseau/work/recipes/ci_py311_2/jedi_1678994967789/work\n",
      "jellyfish @ file:///private/var/folders/k1/30mswbxs7r1g6zwn8y4fyt500000gp/T/abs_c8d7bub7n3/croot/jellyfish_1695193540813/work\n",
      "Jinja2 @ file:///private/var/folders/k1/30mswbxs7r1g6zwn8y4fyt500000gp/T/abs_7dognxkzoy/croot/jinja2_1706733627811/work\n",
      "jmespath @ file:///private/var/folders/k1/30mswbxs7r1g6zwn8y4fyt500000gp/T/abs_369vjbb695/croot/jmespath_1700144575847/work\n",
      "joblib @ file:///private/var/folders/nz/j6p8yfhx1mv_0grj5xl4650h0000gp/T/abs_a357ltg47g/croot/joblib_1685113093574/work\n",
      "json5 @ file:///tmp/build/80754af9/json5_1624432770122/work\n",
      "jsonpatch @ file:///tmp/build/80754af9/jsonpatch_1615747632069/work\n",
      "jsonpointer==2.1\n",
      "jsonschema @ file:///private/var/folders/nz/j6p8yfhx1mv_0grj5xl4650h0000gp/T/abs_27o3go8sqa/croot/jsonschema_1699041627313/work\n",
      "jsonschema-specifications @ file:///private/var/folders/k1/30mswbxs7r1g6zwn8y4fyt500000gp/T/abs_d38pclgu95/croot/jsonschema-specifications_1699032390832/work\n",
      "jupyter @ file:///private/var/folders/k1/30mswbxs7r1g6zwn8y4fyt500000gp/T/abs_2as1e5e93v/croot/jupyter_1707947109235/work\n",
      "jupyter-console @ file:///private/var/folders/nz/j6p8yfhx1mv_0grj5xl4650h0000gp/T/abs_62liw5pns2/croot/jupyter_console_1679999641189/work\n",
      "jupyter-events @ file:///private/var/folders/k1/30mswbxs7r1g6zwn8y4fyt500000gp/T/abs_14ldd9s4d0/croot/jupyter_events_1699282481406/work\n",
      "jupyter-lsp @ file:///private/var/folders/k1/30mswbxs7r1g6zwn8y4fyt500000gp/T/abs_ae9br5v37x/croot/jupyter-lsp-meta_1699978259353/work\n",
      "jupyter_client @ file:///private/var/folders/nz/j6p8yfhx1mv_0grj5xl4650h0000gp/T/abs_58w2siozyz/croot/jupyter_client_1699455907045/work\n",
      "jupyter_core @ file:///private/var/folders/nz/j6p8yfhx1mv_0grj5xl4650h0000gp/T/abs_782yoyc_98/croot/jupyter_core_1698937318631/work\n",
      "jupyter_server @ file:///private/var/folders/k1/30mswbxs7r1g6zwn8y4fyt500000gp/T/abs_281pz9vly5/croot/jupyter_server_1699466465530/work\n",
      "jupyter_server_terminals @ file:///private/var/folders/nz/j6p8yfhx1mv_0grj5xl4650h0000gp/T/abs_e7ryd60iuw/croot/jupyter_server_terminals_1686870731283/work\n",
      "jupyterlab @ file:///private/var/folders/k1/30mswbxs7r1g6zwn8y4fyt500000gp/T/abs_e2r14w4wga/croot/jupyterlab_1706802597734/work\n",
      "jupyterlab-pygments @ file:///tmp/build/80754af9/jupyterlab_pygments_1601490720602/work\n",
      "jupyterlab-widgets @ file:///private/var/folders/k1/30mswbxs7r1g6zwn8y4fyt500000gp/T/abs_b3iojkjor2/croot/jupyterlab_widgets_1700168642873/work\n",
      "jupyterlab_server @ file:///private/var/folders/nz/j6p8yfhx1mv_0grj5xl4650h0000gp/T/abs_315a64u22w/croot/jupyterlab_server_1699555438434/work\n",
      "keyring @ file:///private/var/folders/nz/j6p8yfhx1mv_0grj5xl4650h0000gp/T/abs_8bd22k84zo/croot/keyring_1678999224442/work\n",
      "kiwisolver @ file:///Users/cbousseau/work/recipes/ci_py311/kiwisolver_1677925326358/work\n",
      "lazy-object-proxy @ file:///Users/cbousseau/work/recipes/ci_py311/lazy-object-proxy_1677925379420/work\n",
      "lazy_loader @ file:///private/var/folders/k1/30mswbxs7r1g6zwn8y4fyt500000gp/T/abs_aeoy9wgz34/croot/lazy_loader_1695850118260/work\n",
      "lckr_jupyterlab_variableinspector @ file:///private/var/folders/nz/j6p8yfhx1mv_0grj5xl4650h0000gp/T/abs_80rq8fgtgo/croot/jupyterlab-variableinspector_1701096543940/work\n",
      "libarchive-c @ file:///tmp/build/80754af9/python-libarchive-c_1617780486945/work\n",
      "libmambapy @ file:///private/var/folders/nz/j6p8yfhx1mv_0grj5xl4650h0000gp/T/abs_69t7vyvo1k/croot/mamba-split_1704219411138/work/libmambapy\n",
      "linkify-it-py @ file:///Users/cbousseau/work/recipes/ci_py311/linkify-it-py_1677973036983/work\n",
      "llvmlite @ file:///private/var/folders/k1/30mswbxs7r1g6zwn8y4fyt500000gp/T/abs_a1dv4fk0r3/croot/llvmlite_1706910711755/work\n",
      "lmdb @ file:///private/var/folders/nz/j6p8yfhx1mv_0grj5xl4650h0000gp/T/abs_6fumkuh_c0/croot/python-lmdb_1682522347231/work\n",
      "locket @ file:///Users/cbousseau/work/recipes/ci_py311/locket_1677925419801/work\n",
      "lxml @ file:///private/var/folders/k1/30mswbxs7r1g6zwn8y4fyt500000gp/T/abs_b1f_3r_n5v/croot/lxml_1695058169427/work\n",
      "lz4 @ file:///private/var/folders/nz/j6p8yfhx1mv_0grj5xl4650h0000gp/T/abs_f0mtitgo6y/croot/lz4_1686063770247/work\n",
      "Markdown @ file:///Users/cbousseau/work/recipes/ci_py311/markdown_1677932925449/work\n",
      "markdown-it-py @ file:///private/var/folders/nz/j6p8yfhx1mv_0grj5xl4650h0000gp/T/abs_43l_4ajkho/croot/markdown-it-py_1684279912406/work\n",
      "MarkupSafe @ file:///private/var/folders/nz/j6p8yfhx1mv_0grj5xl4650h0000gp/T/abs_a84ni4pci8/croot/markupsafe_1704206002077/work\n",
      "matplotlib @ file:///private/var/folders/nz/j6p8yfhx1mv_0grj5xl4650h0000gp/T/abs_21m9ylm_7k/croot/matplotlib-suite_1698692123710/work\n",
      "matplotlib-inline @ file:///Users/cbousseau/work/recipes/ci_py311/matplotlib-inline_1677918241899/work\n",
      "mccabe @ file:///opt/conda/conda-bld/mccabe_1644221741721/work\n",
      "mdit-py-plugins @ file:///Users/cbousseau/work/recipes/ci_py311/mdit-py-plugins_1677995322132/work\n",
      "mdurl @ file:///Users/cbousseau/work/recipes/ci_py311/mdurl_1677942260967/work\n",
      "menuinst @ file:///private/var/folders/k1/30mswbxs7r1g6zwn8y4fyt500000gp/T/abs_26a7xsau78/croot/menuinst_1706732941263/work\n",
      "mistune @ file:///Users/cbousseau/work/recipes/ci_py311/mistune_1677916600725/work\n",
      "more-itertools @ file:///private/var/folders/k1/30mswbxs7r1g6zwn8y4fyt500000gp/T/abs_e2687gwsdv/croot/more-itertools_1700662157766/work\n",
      "mpmath @ file:///private/var/folders/k1/30mswbxs7r1g6zwn8y4fyt500000gp/T/abs_17iu6a8a3m/croot/mpmath_1690848269369/work\n",
      "msgpack @ file:///Users/cbousseau/work/recipes/ci_py311/msgpack-python_1677909260136/work\n",
      "multidict @ file:///private/var/folders/nz/j6p8yfhx1mv_0grj5xl4650h0000gp/T/abs_10voz9m15i/croot/multidict_1701096890858/work\n",
      "multipledispatch @ file:///Users/cbousseau/work/recipes/ci_py311/multipledispatch_1677960800437/work\n",
      "munkres==1.1.4\n",
      "mypy @ file:///private/var/folders/k1/30mswbxs7r1g6zwn8y4fyt500000gp/T/abs_40cnri5qg9/croot/mypy-split_1708366522099/work\n",
      "mypy-extensions @ file:///private/var/folders/k1/30mswbxs7r1g6zwn8y4fyt500000gp/T/abs_98zqpuwvro/croot/mypy_extensions_1695130957675/work\n",
      "navigator-updater @ file:///private/var/folders/nz/j6p8yfhx1mv_0grj5xl4650h0000gp/T/abs_14tu6qh1h_/croot/navigator-updater_1695210199291/work\n",
      "nbclient @ file:///private/var/folders/nz/j6p8yfhx1mv_0grj5xl4650h0000gp/T/abs_626hpwnurm/croot/nbclient_1698934218848/work\n",
      "nbconvert @ file:///private/var/folders/k1/30mswbxs7r1g6zwn8y4fyt500000gp/T/abs_caxv2emy33/croot/nbconvert_1699022756174/work\n",
      "nbformat @ file:///private/var/folders/nz/j6p8yfhx1mv_0grj5xl4650h0000gp/T/abs_cbnf5nccgk/croot/nbformat_1694616744196/work\n",
      "nest-asyncio @ file:///private/var/folders/k1/30mswbxs7r1g6zwn8y4fyt500000gp/T/abs_310vb5e2a0/croot/nest-asyncio_1708532678212/work\n",
      "networkx @ file:///private/var/folders/nz/j6p8yfhx1mv_0grj5xl4650h0000gp/T/abs_b9af3smw_7/croot/networkx_1690562010704/work\n",
      "nltk @ file:///private/var/folders/nz/j6p8yfhx1mv_0grj5xl4650h0000gp/T/abs_ebiuq9880w/croot/nltk_1688114154971/work\n",
      "notebook @ file:///private/var/folders/nz/j6p8yfhx1mv_0grj5xl4650h0000gp/T/abs_97vhgwo_12/croot/notebook_1708029880052/work\n",
      "notebook_shim @ file:///private/var/folders/nz/j6p8yfhx1mv_0grj5xl4650h0000gp/T/abs_d6_ze10f45/croot/notebook-shim_1699455897525/work\n",
      "numba @ file:///private/var/folders/nz/j6p8yfhx1mv_0grj5xl4650h0000gp/T/abs_ae9xv0l52z/croot/numba_1707085089591/work\n",
      "numexpr @ file:///private/var/folders/k1/30mswbxs7r1g6zwn8y4fyt500000gp/T/abs_45yefq0kt6/croot/numexpr_1696515289183/work\n",
      "numpy @ file:///private/var/folders/k1/30mswbxs7r1g6zwn8y4fyt500000gp/T/abs_a51i_mbs7m/croot/numpy_and_numpy_base_1708638620867/work/dist/numpy-1.26.4-cp311-cp311-macosx_11_0_arm64.whl#sha256=3d90dd3382cff7becb2384f73058a8e72b81c697e8bb77f1c69a82caca5b0c57\n",
      "numpydoc @ file:///Users/cbousseau/work/recipes/ci_py311/numpydoc_1677960919550/work\n",
      "openpyxl==3.0.10\n",
      "overrides @ file:///private/var/folders/k1/30mswbxs7r1g6zwn8y4fyt500000gp/T/abs_70s80guh9g/croot/overrides_1699371144462/work\n",
      "packaging @ file:///private/var/folders/k1/30mswbxs7r1g6zwn8y4fyt500000gp/T/abs_6dm6d4jd_t/croot/packaging_1693575176524/work\n",
      "pandas @ file:///private/var/folders/nz/j6p8yfhx1mv_0grj5xl4650h0000gp/T/abs_82r7p4atwy/croot/pandas_1702318000240/work/dist/pandas-2.1.4-cp311-cp311-macosx_11_0_arm64.whl#sha256=63b9f12c34b6c55958dc1c6d032dafd28dc982c5e3a7b0f2802ba7920c95f437\n",
      "pandocfilters @ file:///opt/conda/conda-bld/pandocfilters_1643405455980/work\n",
      "panel @ file:///private/var/folders/k1/30mswbxs7r1g6zwn8y4fyt500000gp/T/abs_9emu2axr81/croot/panel_1706539568924/work\n",
      "param @ file:///private/var/folders/k1/30mswbxs7r1g6zwn8y4fyt500000gp/T/abs_b0cxpowug5/croot/param_1705937779359/work\n",
      "parsel @ file:///private/var/folders/nz/j6p8yfhx1mv_0grj5xl4650h0000gp/T/abs_da55frlnfu/croot/parsel_1707503460023/work\n",
      "parso @ file:///opt/conda/conda-bld/parso_1641458642106/work\n",
      "partd @ file:///private/var/folders/k1/30mswbxs7r1g6zwn8y4fyt500000gp/T/abs_0dtqw51_5z/croot/partd_1698702593225/work\n",
      "pathlib @ file:///Users/ktietz/demo/mc3/conda-bld/pathlib_1629713961906/work\n",
      "pathspec @ file:///Users/cbousseau/work/recipes/ci_py311_2/pathspec_1678995598596/work\n",
      "patsy==0.5.3\n",
      "pexpect @ file:///tmp/build/80754af9/pexpect_1605563209008/work\n",
      "pickleshare @ file:///tmp/build/80754af9/pickleshare_1606932040724/work\n",
      "pillow @ file:///private/var/folders/nz/j6p8yfhx1mv_0grj5xl4650h0000gp/T/abs_e02b4k5qik/croot/pillow_1707233036487/work\n",
      "pip==23.3.1\n",
      "pkce @ file:///private/var/folders/k1/30mswbxs7r1g6zwn8y4fyt500000gp/T/abs_da285fiplp/croot/pkce_1690384839054/work\n",
      "pkginfo @ file:///private/var/folders/nz/j6p8yfhx1mv_0grj5xl4650h0000gp/T/abs_d1oq9rhye6/croot/pkginfo_1679431178842/work\n",
      "platformdirs @ file:///private/var/folders/k1/30mswbxs7r1g6zwn8y4fyt500000gp/T/abs_a8u4fy8k9o/croot/platformdirs_1692205661656/work\n",
      "plotly @ file:///Users/cbousseau/work/recipes/ci_py311/plotly_1677953301864/work\n",
      "pluggy @ file:///Users/cbousseau/work/recipes/ci_py311/pluggy_1677906980825/work\n",
      "ply==3.11\n",
      "prometheus-client @ file:///Users/cbousseau/work/recipes/ci_py311_2/prometheus_client_1678996808082/work\n",
      "prompt-toolkit @ file:///private/var/folders/k1/30mswbxs7r1g6zwn8y4fyt500000gp/T/abs_c63v4kqjzr/croot/prompt-toolkit_1704404354115/work\n",
      "Protego @ file:///tmp/build/80754af9/protego_1598657180827/work\n",
      "protobuf==3.20.3\n",
      "psutil @ file:///Users/cbousseau/work/recipes/ci_py311_2/psutil_1678995687212/work\n",
      "ptyprocess @ file:///tmp/build/80754af9/ptyprocess_1609355006118/work/dist/ptyprocess-0.7.0-py2.py3-none-any.whl\n",
      "pure-eval @ file:///opt/conda/conda-bld/pure_eval_1646925070566/work\n",
      "py-cpuinfo @ file:///private/var/folders/nz/j6p8yfhx1mv_0grj5xl4650h0000gp/T/abs_1ai9qocl5v/croot/py-cpuinfo_1698068093370/work\n",
      "pyarrow @ file:///private/var/folders/k1/30mswbxs7r1g6zwn8y4fyt500000gp/T/abs_7dissav55a/croot/pyarrow_1707330837493/work/python\n",
      "pyasn1 @ file:///Users/ktietz/demo/mc3/conda-bld/pyasn1_1629708007385/work\n",
      "pyasn1-modules==0.2.8\n",
      "pycodestyle @ file:///Users/cbousseau/work/recipes/ci_py311/pycodestyle_1677927047034/work\n",
      "pycosat @ file:///private/var/folders/k1/30mswbxs7r1g6zwn8y4fyt500000gp/T/abs_3eg8vdcs6z/croot/pycosat_1696536519213/work\n",
      "pycparser @ file:///tmp/build/80754af9/pycparser_1636541352034/work\n",
      "pyct @ file:///Users/cbousseau/work/recipes/ci_py311/pyct_1677933596803/work\n",
      "pycurl @ file:///private/var/folders/nz/j6p8yfhx1mv_0grj5xl4650h0000gp/T/abs_b1wi2c6a_m/croot/pycurl_1686662468919/work\n",
      "pydantic @ file:///private/var/folders/k1/30mswbxs7r1g6zwn8y4fyt500000gp/T/abs_f5e9j7terp/croot/pydantic_1695798853988/work\n",
      "pydeck @ file:///private/var/folders/k1/30mswbxs7r1g6zwn8y4fyt500000gp/T/abs_df_5iy65um/croot/pydeck_1706194077123/work\n",
      "PyDispatcher==2.0.5\n",
      "pydocstyle @ file:///Users/cbousseau/work/recipes/ci_py311/pydocstyle_1677933616104/work\n",
      "pyerfa @ file:///Users/cbousseau/work/recipes/ci_py311/pyerfa_1677933632816/work\n",
      "pyflakes @ file:///Users/cbousseau/work/recipes/ci_py311/pyflakes_1677927066386/work\n",
      "Pygments @ file:///private/var/folders/nz/j6p8yfhx1mv_0grj5xl4650h0000gp/T/abs_29bs9f_dh9/croot/pygments_1684279974747/work\n",
      "PyJWT @ file:///Users/cbousseau/work/recipes/ci_py311/pyjwt_1677933681463/work\n",
      "pylint @ file:///Users/cbousseau/work/recipes/ci_py311/pylint_1677933699245/work\n",
      "pylint-venv @ file:///Users/cbousseau/work/recipes/ci_py311/pylint-venv_1677961443839/work\n",
      "pyls-spyder==0.4.0\n",
      "pyobjc-core @ file:///Users/cbousseau/work/recipes/ci_py311/pyobjc-core_1678112643033/work\n",
      "pyobjc-framework-Cocoa @ file:///Users/cbousseau/work/recipes/ci_py311/pyobjc-framework-cocoa_1678112805655/work\n",
      "pyobjc-framework-CoreServices @ file:///Users/cbousseau/work/recipes/ci_py311/pyobjc-framework-coreservices_1678113537167/work\n",
      "pyobjc-framework-FSEvents @ file:///Users/cbousseau/work/recipes/ci_py311/pyobjc-framework-fsevents_1678112996782/work\n",
      "pyodbc @ file:///private/var/folders/k1/30mswbxs7r1g6zwn8y4fyt500000gp/T/abs_0adrszmc0v/croot/pyodbc_1705431358881/work\n",
      "pyOpenSSL @ file:///private/var/folders/k1/30mswbxs7r1g6zwn8y4fyt500000gp/T/abs_94bn0tgaw5/croot/pyopenssl_1708381744097/work\n",
      "pyparsing @ file:///Users/cbousseau/work/recipes/ci_py311/pyparsing_1677910832141/work\n",
      "PyQt5==5.15.10\n",
      "PyQt5-sip @ file:///private/var/folders/k1/30mswbxs7r1g6zwn8y4fyt500000gp/T/abs_7c_9f71up5/croot/pyqt-split_1698769091879/work/pyqt_sip\n",
      "PyQtWebEngine==5.15.6\n",
      "PySocks @ file:///Users/cbousseau/work/recipes/ci_py311/pysocks_1677906386870/work\n",
      "pytest @ file:///private/var/folders/nz/j6p8yfhx1mv_0grj5xl4650h0000gp/T/abs_75ehl8i878/croot/pytest_1690474711033/work\n",
      "python-dateutil @ file:///tmp/build/80754af9/python-dateutil_1626374649649/work\n",
      "python-dotenv @ file:///Users/cbousseau/work/recipes/ci_py311/python-dotenv_1677924884036/work\n",
      "python-json-logger @ file:///private/var/folders/nz/j6p8yfhx1mv_0grj5xl4650h0000gp/T/abs_c3baq2ko4j/croot/python-json-logger_1683823815343/work\n",
      "python-lsp-black @ file:///Users/cbousseau/work/recipes/ci_py311/python-lsp-black_1677961743861/work\n",
      "python-lsp-jsonrpc==1.0.0\n",
      "python-lsp-server @ file:///private/var/folders/nz/j6p8yfhx1mv_0grj5xl4650h0000gp/T/abs_73tk9oa5lj/croot/python-lsp-server_1681930403042/work\n",
      "python-slugify @ file:///tmp/build/80754af9/python-slugify_1620405669636/work\n",
      "python-snappy @ file:///Users/cbousseau/work/recipes/ci_py311/python-snappy_1677954153933/work\n",
      "pytoolconfig @ file:///private/var/folders/k1/30mswbxs7r1g6zwn8y4fyt500000gp/T/abs_c0c43xm9fv/croot/pytoolconfig_1701728714940/work\n",
      "pytz @ file:///private/var/folders/k1/30mswbxs7r1g6zwn8y4fyt500000gp/T/abs_6btwyyj8a1/croot/pytz_1695131592184/work\n",
      "pyviz_comms @ file:///private/var/folders/k1/30mswbxs7r1g6zwn8y4fyt500000gp/T/abs_3a3w3gjwix/croot/pyviz_comms_1701728033147/work\n",
      "pywavelets @ file:///private/var/folders/nz/j6p8yfhx1mv_0grj5xl4650h0000gp/T/abs_ab3sn2fmxp/croot/pywavelets_1705049822227/work\n",
      "PyYAML @ file:///private/var/folders/nz/j6p8yfhx1mv_0grj5xl4650h0000gp/T/abs_a8_sdgulmz/croot/pyyaml_1698096054705/work\n",
      "pyzmq @ file:///private/var/folders/k1/30mswbxs7r1g6zwn8y4fyt500000gp/T/abs_43pxpbos3z/croot/pyzmq_1705605108344/work\n",
      "QDarkStyle @ file:///tmp/build/80754af9/qdarkstyle_1617386714626/work\n",
      "qstylizer @ file:///Users/cbousseau/work/recipes/ci_py311/qstylizer_1678072198813/work/dist/qstylizer-0.2.2-py2.py3-none-any.whl\n",
      "QtAwesome @ file:///Users/cbousseau/work/recipes/ci_py311/qtawesome_1677961781784/work\n",
      "qtconsole @ file:///private/var/folders/nz/j6p8yfhx1mv_0grj5xl4650h0000gp/T/abs_86g4aht18r/croot/qtconsole_1681394233851/work\n",
      "QtPy @ file:///private/var/folders/nz/j6p8yfhx1mv_0grj5xl4650h0000gp/T/abs_7ctc7lxlar/croot/qtpy_1700144861044/work\n",
      "queuelib @ file:///private/var/folders/nz/j6p8yfhx1mv_0grj5xl4650h0000gp/T/abs_927ughhs8g/croot/queuelib_1696950296942/work\n",
      "referencing @ file:///private/var/folders/nz/j6p8yfhx1mv_0grj5xl4650h0000gp/T/abs_5cz64gsx70/croot/referencing_1699012046031/work\n",
      "regex @ file:///private/var/folders/k1/30mswbxs7r1g6zwn8y4fyt500000gp/T/abs_c10w1rynu_/croot/regex_1696515309790/work\n",
      "requests @ file:///private/var/folders/nz/j6p8yfhx1mv_0grj5xl4650h0000gp/T/abs_b3tnputioh/croot/requests_1707355573919/work\n",
      "requests-file @ file:///Users/ktietz/demo/mc3/conda-bld/requests-file_1629455781986/work\n",
      "requests-toolbelt @ file:///private/var/folders/k1/30mswbxs7r1g6zwn8y4fyt500000gp/T/abs_3fee1fr2ex/croot/requests-toolbelt_1690874011813/work\n",
      "rfc3339-validator @ file:///private/var/folders/nz/j6p8yfhx1mv_0grj5xl4650h0000gp/T/abs_76ae5cu30h/croot/rfc3339-validator_1683077051957/work\n",
      "rfc3986-validator @ file:///private/var/folders/nz/j6p8yfhx1mv_0grj5xl4650h0000gp/T/abs_d0l5zd97kt/croot/rfc3986-validator_1683058998431/work\n",
      "rich @ file:///private/var/folders/nz/j6p8yfhx1mv_0grj5xl4650h0000gp/T/abs_f2payco56o/croot/rich_1684282180753/work\n",
      "rope @ file:///Users/cbousseau/work/recipes/ci_py311/rope_1677934821109/work\n",
      "rpds-py @ file:///private/var/folders/k1/30mswbxs7r1g6zwn8y4fyt500000gp/T/abs_f8jkozoefm/croot/rpds-py_1698945944860/work\n",
      "Rtree @ file:///Users/cbousseau/work/recipes/ci_py311/rtree_1677961892694/work\n",
      "ruamel-yaml-conda @ file:///Users/cbousseau/work/recipes/ci_py311/ruamel_yaml_1677961911260/work\n",
      "ruamel.yaml @ file:///Users/cbousseau/work/recipes/ci_py311/ruamel.yaml_1677934845850/work\n",
      "s3fs @ file:///private/var/folders/k1/30mswbxs7r1g6zwn8y4fyt500000gp/T/abs_46ge7qykej/croot/s3fs_1701294195549/work\n",
      "scikit-image @ file:///private/var/folders/k1/30mswbxs7r1g6zwn8y4fyt500000gp/T/abs_afct9vfeyr/croot/scikit-image_1707346121694/work\n",
      "scikit-learn @ file:///private/var/folders/nz/j6p8yfhx1mv_0grj5xl4650h0000gp/T/abs_b53p48pwor/croot/scikit-learn_1684954746053/work\n",
      "scipy @ file:///private/var/folders/nz/j6p8yfhx1mv_0grj5xl4650h0000gp/T/abs_680rtkz_e8/croot/scipy_1701295052241/work/dist/scipy-1.11.4-cp311-cp311-macosx_11_0_arm64.whl#sha256=6cf6325dd7351f3142748300fa2436798aaabb59c85d27bb83ad8b7547e52d64\n",
      "Scrapy @ file:///Users/cbousseau/work/recipes/ci_py311/scrapy_1678002824834/work\n",
      "seaborn @ file:///Users/cbousseau/work/recipes/ci_py311/seaborn_1677961968762/work\n",
      "semver @ file:///tmp/build/80754af9/semver_1603822362442/work\n",
      "Send2Trash @ file:///private/var/folders/k1/30mswbxs7r1g6zwn8y4fyt500000gp/T/abs_5b31f0zzlv/croot/send2trash_1699371144121/work\n",
      "service-identity @ file:///Users/ktietz/demo/mc3/conda-bld/service_identity_1629460757137/work\n",
      "setuptools==68.2.2\n",
      "sip @ file:///private/var/folders/k1/30mswbxs7r1g6zwn8y4fyt500000gp/T/abs_ba9odc_3u1/croot/sip_1698675938651/work\n",
      "six @ file:///tmp/build/80754af9/six_1644875935023/work\n",
      "smart-open @ file:///Users/cbousseau/work/recipes/ci_py311/smart_open_1677955621457/work\n",
      "smmap @ file:///tmp/build/80754af9/smmap_1611694433573/work\n",
      "sniffio @ file:///private/var/folders/nz/j6p8yfhx1mv_0grj5xl4650h0000gp/T/abs_1573pknjrg/croot/sniffio_1705431298885/work\n",
      "snowballstemmer @ file:///tmp/build/80754af9/snowballstemmer_1637937080595/work\n",
      "sortedcontainers @ file:///tmp/build/80754af9/sortedcontainers_1623949099177/work\n",
      "soupsieve @ file:///private/var/folders/k1/30mswbxs7r1g6zwn8y4fyt500000gp/T/abs_9798xzs_03/croot/soupsieve_1696347567192/work\n",
      "Sphinx @ file:///Users/cbousseau/work/recipes/ci_py311/sphinx_1677955655588/work\n",
      "sphinxcontrib-applehelp @ file:///home/ktietz/src/ci/sphinxcontrib-applehelp_1611920841464/work\n",
      "sphinxcontrib-devhelp @ file:///home/ktietz/src/ci/sphinxcontrib-devhelp_1611920923094/work\n",
      "sphinxcontrib-htmlhelp @ file:///tmp/build/80754af9/sphinxcontrib-htmlhelp_1623945626792/work\n",
      "sphinxcontrib-jsmath @ file:///home/ktietz/src/ci/sphinxcontrib-jsmath_1611920942228/work\n",
      "sphinxcontrib-qthelp @ file:///home/ktietz/src/ci/sphinxcontrib-qthelp_1611921055322/work\n",
      "sphinxcontrib-serializinghtml @ file:///tmp/build/80754af9/sphinxcontrib-serializinghtml_1624451540180/work\n",
      "spyder @ file:///private/var/folders/nz/j6p8yfhx1mv_0grj5xl4650h0000gp/T/abs_f02k_edsgq/croot/spyder_1681934090757/work\n",
      "spyder-kernels @ file:///private/var/folders/nz/j6p8yfhx1mv_0grj5xl4650h0000gp/T/abs_05ibj216sl/croot/spyder-kernels_1691599540883/work\n",
      "SQLAlchemy @ file:///private/var/folders/k1/30mswbxs7r1g6zwn8y4fyt500000gp/T/abs_178d1hepo8/croot/sqlalchemy_1705089115295/work\n",
      "stack-data @ file:///opt/conda/conda-bld/stack_data_1646927590127/work\n",
      "statsmodels @ file:///private/var/folders/nz/j6p8yfhx1mv_0grj5xl4650h0000gp/T/abs_d39rlzrllo/croot/statsmodels_1689937269798/work\n",
      "streamlit @ file:///private/var/folders/nz/j6p8yfhx1mv_0grj5xl4650h0000gp/T/abs_6ebb6f6mt5/croot/streamlit_1706200490589/work\n",
      "sympy @ file:///private/var/folders/nz/j6p8yfhx1mv_0grj5xl4650h0000gp/T/abs_7cbpg8656h/croot/sympy_1701397648473/work\n",
      "tables @ file:///private/var/folders/k1/30mswbxs7r1g6zwn8y4fyt500000gp/T/abs_b2h37objh4/croot/pytables_1705614846524/work\n",
      "tabulate @ file:///private/var/folders/k1/30mswbxs7r1g6zwn8y4fyt500000gp/T/abs_a301xhcsz1/croot/tabulate_1701354815389/work\n",
      "tblib @ file:///Users/ktietz/demo/mc3/conda-bld/tblib_1629402031467/work\n",
      "tenacity @ file:///private/var/folders/nz/j6p8yfhx1mv_0grj5xl4650h0000gp/T/abs_0ew5sfng29/croot/tenacity_1682972282256/work\n",
      "terminado @ file:///Users/cbousseau/work/recipes/ci_py311/terminado_1677918849903/work\n",
      "text-unidecode @ file:///Users/ktietz/demo/mc3/conda-bld/text-unidecode_1629401354553/work\n",
      "textdistance @ file:///tmp/build/80754af9/textdistance_1612461398012/work\n",
      "threadpoolctl @ file:///Users/ktietz/demo/mc3/conda-bld/threadpoolctl_1629802263681/work\n",
      "three-merge @ file:///tmp/build/80754af9/three-merge_1607553261110/work\n",
      "tifffile @ file:///private/var/folders/k1/30mswbxs7r1g6zwn8y4fyt500000gp/T/abs_1bw3sr2x5b/croot/tifffile_1695107467939/work\n",
      "tinycss2 @ file:///Users/cbousseau/work/recipes/ci_py311/tinycss2_1677917352983/work\n",
      "tldextract @ file:///opt/conda/conda-bld/tldextract_1646638314385/work\n",
      "toml @ file:///tmp/build/80754af9/toml_1616166611790/work\n",
      "tomlkit @ file:///Users/cbousseau/work/recipes/ci_py311/tomlkit_1677911131859/work\n",
      "toolz @ file:///Users/cbousseau/work/recipes/ci_py311/toolz_1677925870232/work\n",
      "tornado @ file:///private/var/folders/nz/j6p8yfhx1mv_0grj5xl4650h0000gp/T/abs_3a5nrn2jeh/croot/tornado_1696936974091/work\n",
      "tqdm @ file:///private/var/folders/nz/j6p8yfhx1mv_0grj5xl4650h0000gp/T/abs_ac7zic_tin/croot/tqdm_1679561870178/work\n",
      "traitlets @ file:///Users/cbousseau/work/recipes/ci_py311/traitlets_1677911650502/work\n",
      "truststore @ file:///private/var/folders/k1/30mswbxs7r1g6zwn8y4fyt500000gp/T/abs_42mm7e6j06/croot/truststore_1695244298716/work\n",
      "tweet-preprocessor==0.6.0\n",
      "Twisted @ file:///private/var/folders/k1/30mswbxs7r1g6zwn8y4fyt500000gp/T/abs_c4spem5kwe/croot/twisted_1708702820544/work\n",
      "typing_extensions @ file:///private/var/folders/nz/j6p8yfhx1mv_0grj5xl4650h0000gp/T/abs_6ejdc7ufhc/croot/typing_extensions_1705599306111/work\n",
      "tzdata @ file:///croot/python-tzdata_1690578112552/work\n",
      "tzlocal @ file:///Users/cbousseau/work/recipes/ci_py311/tzlocal_1677955771765/work\n",
      "uc-micro-py @ file:///Users/cbousseau/work/recipes/ci_py311/uc-micro-py_1677963537430/work\n",
      "ujson @ file:///Users/cbousseau/work/recipes/ci_py311/ujson_1677927397272/work\n",
      "Unidecode @ file:///tmp/build/80754af9/unidecode_1614712377438/work\n",
      "urllib3 @ file:///private/var/folders/nz/j6p8yfhx1mv_0grj5xl4650h0000gp/T/abs_8erehjlzck/croot/urllib3_1707349248082/work\n",
      "validators @ file:///tmp/build/80754af9/validators_1612286467315/work\n",
      "w3lib @ file:///private/var/folders/nz/j6p8yfhx1mv_0grj5xl4650h0000gp/T/abs_e4l0s0u31h/croot/w3lib_1708639939851/work\n",
      "watchdog @ file:///Users/cbousseau/work/recipes/ci_py311/watchdog_1677963700938/work\n",
      "wcwidth @ file:///Users/ktietz/demo/mc3/conda-bld/wcwidth_1629357192024/work\n",
      "webencodings==0.5.1\n",
      "websocket-client @ file:///Users/cbousseau/work/recipes/ci_py311/websocket-client_1677918996745/work\n",
      "Werkzeug @ file:///private/var/folders/nz/j6p8yfhx1mv_0grj5xl4650h0000gp/T/abs_fc9kcczuwd/croot/werkzeug_1679489745296/work\n",
      "whatthepatch @ file:///Users/cbousseau/work/recipes/ci_py311/whatthepatch_1677934976505/work\n",
      "wheel==0.41.2\n",
      "widgetsnbextension @ file:///private/var/folders/nz/j6p8yfhx1mv_0grj5xl4650h0000gp/T/abs_f9v6fxmzlg/croot/widgetsnbextension_1701273650279/work\n",
      "wrapt @ file:///Users/cbousseau/work/recipes/ci_py311/wrapt_1677925966862/work\n",
      "wurlitzer @ file:///Users/cbousseau/work/recipes/ci_py311/wurlitzer_1677955854875/work\n",
      "xarray @ file:///private/var/folders/nz/j6p8yfhx1mv_0grj5xl4650h0000gp/T/abs_a14bvvrzzp/croot/xarray_1689041477812/work\n",
      "xlwings @ file:///Users/cbousseau/work/recipes/ci_py311_2/xlwings_1678996173448/work\n",
      "xyzservices @ file:///Users/cbousseau/work/recipes/ci_py311/xyzservices_1677927443768/work\n",
      "yapf @ file:///tmp/build/80754af9/yapf_1615749224965/work\n",
      "yarl @ file:///private/var/folders/k1/30mswbxs7r1g6zwn8y4fyt500000gp/T/abs_a8s46tbbn5/croot/yarl_1701105147904/work\n",
      "zict @ file:///private/var/folders/k1/30mswbxs7r1g6zwn8y4fyt500000gp/T/abs_29a3x1a9ts/croot/zict_1695832855383/work\n",
      "zipp @ file:///private/var/folders/nz/j6p8yfhx1mv_0grj5xl4650h0000gp/T/abs_31jm3q76eq/croot/zipp_1704206913245/work\n",
      "zope.interface @ file:///Users/cbousseau/work/recipes/ci_py311/zope.interface_1678055276546/work\n",
      "zstandard @ file:///Users/cbousseau/work/recipes/ci_py311_2/zstandard_1678996192313/work\n"
     ]
    }
   ],
   "source": [
    "# YOUR CODE HERE #\n",
    "# Instantiate the PackageUtils class\n",
    "\n",
    "# Calling the get_packages method to see the installed packages\n",
    "installed_packages = PackageUtils().get_packages()\n"
   ]
  },
  {
   "cell_type": "markdown",
   "metadata": {},
   "source": [
    "### 7.1.2 Local Testing & Debugging\n",
    "\n",
    "Optional local tests using a small toy dataset are sometimes provided to aid in debugging. The local tests are all stored in localtests.py\n",
    "#### The autograder is the final arbiter\n",
    "- There are no points associated with passing or failing the local tests, you must still pass the autograder to get points. \n",
    "- It is possible to fail the local test and pass the autograder.\n",
    "    - The autograder may have tolerances to account for minor implementation differences. \n",
    "    - The reverse is also true, as the autograder may cover a larger number of corner cases.\n",
    "- **You do not need to pass both local and autograder tests to get points, passing the Gradescope autograder is sufficient for credit.**\n",
    "\n",
    "#### Work smarter, not harder\n",
    "- Read the stack trace carefully. Often it will tell you exactly what's wrong.\n",
    "- Understand what the local-test is doing. That way you can develop your own tests. \n",
    "- Grow beyond the print statement: embrace a debugger. Jupyter-lab has a [built in debugger](https://jupyterlab.readthedocs.io/en/stable/user/debugger.html) which allows you to look at data types, set breakpoints, and examine variables. If using a different IDE, look up your IDE's documentation on how to setup a proper debugger. \n",
    "- Develop incrementally and test frequently, both localy and on Gradescope. Waiting to complete the whole class before testing can make it hard to isolate errors. "
   ]
  },
  {
   "cell_type": "markdown",
   "metadata": {},
   "source": [
    "For this problem perform the following in the cell below: \n",
    "- import `WarmupTests` from the `localtests.py`. \n",
    "- Run the cell and submit `env.pkl`"
   ]
  },
  {
   "cell_type": "code",
   "execution_count": 34,
   "metadata": {},
   "outputs": [],
   "source": [
    "import unittest\n",
    "import sys\n",
    "\n",
    "# import WarmupTests from the localtests.py in the utilities folder.\n",
    "from localtests import WarmupTests\n",
    "# END YOUR CODE ABOVE #"
   ]
  },
  {
   "cell_type": "code",
   "execution_count": 35,
   "metadata": {},
   "outputs": [
    {
     "name": "stderr",
     "output_type": "stream",
     "text": [
      ".\n",
      "----------------------------------------------------------------------\n",
      "Ran 1 test in 0.002s\n",
      "\n",
      "OK\n"
     ]
    },
    {
     "name": "stdout",
     "output_type": "stream",
     "text": [
      "Passed test_get_packages\n"
     ]
    }
   ],
   "source": [
    "###############################\n",
    "### DO NOT CHANGE THIS CELL ###\n",
    "###############################\n",
    "result = unittest.main(\n",
    "    argv=[\"ignored\", \"WarmupTests.test_get_packages\"], verbosity=1, exit=False\n",
    ")\n",
    "if not result.result.wasSuccessful():\n",
    "    sys.exit(1)"
   ]
  },
  {
   "attachments": {},
   "cell_type": "markdown",
   "metadata": {},
   "source": [
    "## 7.2 Numpy Basics [2pt]\n",
    "The following exercise will familiarize you with the basics of working with Numpy and navigating the [numpy documentation](https://numpy.org/doc/1.23/reference/index.html)\n",
    "\n",
    "In `warmup.py` you will implement several \"one-liners\" using functions provided by numpy. No points will be awarded on Gradescope for any use of for loops or list comprehensions. Implement the following functions in `warmup.py`:\n",
    "\n",
    "- indices_of_k\n",
    "- argmax_1d\n",
    "- mean_rows\n",
    "- sum_squares\n",
    "\n",
    "You may test your implementation with the below local tests. These local tests only checks the returned values of your implementation and does not check whether your implementation uses loops. Gradescope will check to make sure your implementation does not use loops (for, while, or list comprehensions).\n",
    "\n",
    "<span style=\"color:red\">**WARNING: Make sure you match the dimensions of the output given in the comments of required function in warmup.py**</span>\n",
    "\n",
    "<span style=\"color:red\">HINT: Print and see what numpy functions are doing as much as you can!</span>"
   ]
  },
  {
   "cell_type": "code",
   "execution_count": 36,
   "metadata": {},
   "outputs": [
    {
     "name": "stderr",
     "output_type": "stream",
     "text": [
      ".....\n",
      "----------------------------------------------------------------------\n",
      "Ran 5 tests in 0.014s\n",
      "\n",
      "OK\n"
     ]
    },
    {
     "name": "stdout",
     "output_type": "stream",
     "text": [
      "Correct Values for argmax_1d\n",
      "Passed test_get_packages\n",
      "Correct Values for indices_of_k\n",
      "Correct Values for mean_rows\n",
      "Correct Values for sum_squares\n"
     ]
    }
   ],
   "source": [
    "###############################\n",
    "### DO NOT CHANGE THIS CELL ###\n",
    "###############################\n",
    "import unittest\n",
    "\n",
    "result = unittest.main(argv=[\"\"], verbosity=1, exit=False)\n",
    "\n",
    "if not result.result.wasSuccessful():\n",
    "    sys.exit(1)"
   ]
  },
  {
   "cell_type": "markdown",
   "metadata": {},
   "source": [
    "## 7.3 Broadcasting [1pt]\n",
    "\n",
    "One of the simplest and most common similarity metrics in ML is the Manhattan Distance or [taxicab-distance](https://en.wikipedia.org/wiki/Taxicab_geometry). The function below takes two lists of $N$ points in $D$ dimensional space (NxD numpy arrays) and computes the Manhattan distance between every possible pair of points. *Hint: you can use this to try creating your own unittests*\n",
    "\n",
    "Unfortunately such an implementation is too slow for a large dataset. In `fast_manhattan` leverage the broadcasting properties of numpy to create a faster version in a single line."
   ]
  },
  {
   "cell_type": "code",
   "execution_count": 37,
   "metadata": {},
   "outputs": [],
   "source": [
    "###############################\n",
    "### DO NOT CHANGE THIS CELL ###\n",
    "###############################\n",
    "\n",
    "import numpy as np\n",
    "\n",
    "\n",
    "def slow_manhattan(x, y):\n",
    "    \"\"\"\n",
    "    Args:\n",
    "        x: N x D numpy array\n",
    "        y: M x D numpy array\n",
    "     Return:\n",
    "        dist: N x M numpy array, where dist[i, j] is the Manhattan distance between\n",
    "        x[i, :] and y[j, :]\n",
    "    \"\"\"\n",
    "    dist = np.empty((x.shape[0], y.shape[0]))\n",
    "    for i in range(x.shape[0]):\n",
    "        for j in range(y.shape[0]):\n",
    "            d = 0\n",
    "            for k in range(x.shape[1]):\n",
    "                d += abs(x[i][k] - y[j][k])\n",
    "            dist[i][j] = d\n",
    "    return dist"
   ]
  },
  {
   "cell_type": "markdown",
   "metadata": {},
   "source": [
    "Let's test the speed of this naive implementation:"
   ]
  },
  {
   "cell_type": "code",
   "execution_count": 38,
   "metadata": {},
   "outputs": [
    {
     "name": "stdout",
     "output_type": "stream",
     "text": [
      "16.5 ms ± 563 µs per loop (mean ± std. dev. of 7 runs, 100 loops each)\n"
     ]
    }
   ],
   "source": [
    "%%timeit\n",
    "\n",
    "###############################\n",
    "### DO NOT CHANGE THIS CELL ###\n",
    "###############################\n",
    "\n",
    "\n",
    "x = np.random.rand(100, 3)\n",
    "y = np.random.rand(100, 3)\n",
    "d = slow_manhattan(x, y)"
   ]
  },
  {
   "cell_type": "markdown",
   "metadata": {},
   "source": [
    "Compare this with the vectorized implementation:"
   ]
  },
  {
   "cell_type": "code",
   "execution_count": 39,
   "metadata": {},
   "outputs": [],
   "source": [
    "###############################\n",
    "### DO NOT CHANGE THIS CELL ###\n",
    "###############################\n",
    "\n",
    "import warmup"
   ]
  },
  {
   "cell_type": "code",
   "execution_count": 40,
   "metadata": {},
   "outputs": [
    {
     "name": "stdout",
     "output_type": "stream",
     "text": [
      "309 µs ± 21.8 µs per loop (mean ± std. dev. of 7 runs, 1,000 loops each)\n"
     ]
    }
   ],
   "source": [
    "%%timeit\n",
    "\n",
    "###############################\n",
    "### DO NOT CHANGE THIS CELL ###\n",
    "###############################\n",
    "\n",
    "x = np.random.rand(100, 3)\n",
    "y = np.random.rand(100, 3)\n",
    "d = warmup.fast_manhattan(x, y)"
   ]
  },
  {
   "cell_type": "markdown",
   "metadata": {},
   "source": [
    "Finally for `multiple_choice` answer the following by returning the correct integer value: \n",
    "\n",
    "Which of the following best describes the space and time complexity of `slow_manhattan` compared to `fast_manhattan`:\n",
    "- return 0 if: `fast_manhattan` has lower space and time complexity.\n",
    "- return 1 if: `slow_manhattan` has lower space complexity and the same time complexity.\n",
    "- return 2 if: `fast_manhattan` has higher space complexity and lower time complexity.\n",
    "- return 3 if: Both are about the same in space and time complexity."
   ]
  },
  {
   "cell_type": "code",
   "execution_count": 41,
   "metadata": {},
   "outputs": [
    {
     "data": {
      "text/plain": [
       "1"
      ]
     },
     "execution_count": 41,
     "metadata": {},
     "output_type": "execute_result"
    }
   ],
   "source": [
    "###############################\n",
    "### DO NOT CHANGE THIS CELL ###\n",
    "###############################\n",
    "\n",
    "\n",
    "warmup.multiple_choice()"
   ]
  }
 ],
 "metadata": {
  "colab": {
   "collapsed_sections": [
    "xuEnlmN4_Mv5",
    "OYMGmHnb_Mv5",
    "AsQ451om_Mv6",
    "F6RKWYnT_Mv6",
    "B5lmW2uC_Mv6",
    "fKoOWjNL_Mv6",
    "vEH3Rq6I_Mv7",
    "Ig0zfoum_Mv8",
    "Cj-SyonU_Mv9",
    "nVoCLl_3_Mv9",
    "7EOWVBev_Mv9",
    "XNi4X5bk_MwB",
    "CoW4bOY1_MwC",
    "3xqpO5wU_MwD",
    "47oHreu7_MwD",
    "-vmUAYXN_MwD"
   ],
   "name": "SUMMER2022_HW2_Solutions.ipynb",
   "provenance": []
  },
  "kernelspec": {
   "display_name": "Python 3 (ipykernel)",
   "language": "python",
   "name": "python3"
  },
  "language_info": {
   "codemirror_mode": {
    "name": "ipython",
    "version": 3
   },
   "file_extension": ".py",
   "mimetype": "text/x-python",
   "name": "python",
   "nbconvert_exporter": "python",
   "pygments_lexer": "ipython3",
   "version": "3.11.7"
  },
  "vscode": {
   "interpreter": {
    "hash": "abf998783507de3c9f11921dada3c31435afdabbce72c6ea8c0c9b645eb95361"
   }
  }
 },
 "nbformat": 4,
 "nbformat_minor": 4
}
